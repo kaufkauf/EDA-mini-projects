{
 "cells": [
  {
   "cell_type": "markdown",
   "metadata": {},
   "source": [
    "# What is the True Normal Human Body Temperature? \n",
    "\n",
    "#### Background\n",
    "\n",
    "The mean normal body temperature was held to be 37$^{\\circ}$C or 98.6$^{\\circ}$F for more than 120 years since it was first conceptualized and reported by Carl Wunderlich in a famous 1868 book. But, is this value statistically correct?"
   ]
  },
  {
   "cell_type": "markdown",
   "metadata": {},
   "source": [
    "<h3>Exercises</h3>\n",
    "\n",
    "<p>In this exercise, you will analyze a dataset of human body temperatures and employ the concepts of hypothesis testing, confidence intervals, and statistical significance.</p>\n",
    "\n",
    "<p>Answer the following questions <b>in this notebook below and submit to your Github account</b>.</p> \n",
    "\n",
    "<ol>\n",
    "<li>  Is the distribution of body temperatures normal? \n",
    "    <ul>\n",
    "    <li> Although this is not a requirement for the Central Limit Theorem to hold (read the introduction on Wikipedia's page about the CLT carefully: https://en.wikipedia.org/wiki/Central_limit_theorem), it gives us some peace of mind that the population may also be normally distributed if we assume that this sample is representative of the population.\n",
    "    <li> Think about the way you're going to check for the normality of the distribution. Graphical methods are usually used first, but there are also other ways: https://en.wikipedia.org/wiki/Normality_test\n",
    "    </ul>\n",
    "<li>  Is the sample size large? Are the observations independent?\n",
    "    <ul>\n",
    "    <li> Remember that this is a condition for the Central Limit Theorem, and hence the statistical tests we are using, to apply.\n",
    "    </ul>\n",
    "<li>  Is the true population mean really 98.6 degrees F?\n",
    "    <ul>\n",
    "    <li> First, try a bootstrap hypothesis test.\n",
    "    <li> Now, let's try frequentist statistical testing. Would you use a one-sample or two-sample test? Why?\n",
    "    <li> In this situation, is it appropriate to use the $t$ or $z$ statistic? \n",
    "    <li> Now try using the other test. How is the result be different? Why?\n",
    "    </ul>\n",
    "<li>  Draw a small sample of size 10 from the data and repeat both frequentist tests. \n",
    "    <ul>\n",
    "    <li> Which one is the correct one to use? \n",
    "    <li> What do you notice? What does this tell you about the difference in application of the $t$ and $z$ statistic?\n",
    "    </ul>\n",
    "<li>  At what temperature should we consider someone's temperature to be \"abnormal\"?\n",
    "    <ul>\n",
    "    <li> As in the previous example, try calculating everything using the boostrap approach, as well as the frequentist approach.\n",
    "    <li> Start by computing the margin of error and confidence interval. When calculating the confidence interval, keep in mind that you should use the appropriate formula for one draw, and not N draws.\n",
    "    </ul>\n",
    "<li>  Is there a significant difference between males and females in normal temperature?\n",
    "    <ul>\n",
    "    <li> What testing approach did you use and why?\n",
    "    <li> Write a story with your conclusion in the context of the original problem.\n",
    "    </ul>\n",
    "</ol>\n",
    "\n",
    "You can include written notes in notebook cells using Markdown: \n",
    "   - In the control panel at the top, choose Cell > Cell Type > Markdown\n",
    "   - Markdown syntax: http://nestacms.com/docs/creating-content/markdown-cheat-sheet\n",
    "\n",
    "#### Resources\n",
    "\n",
    "+ Information and data sources: http://www.amstat.org/publications/jse/datasets/normtemp.txt, http://www.amstat.org/publications/jse/jse_data_archive.htm\n",
    "+ Markdown syntax: http://nestacms.com/docs/creating-content/markdown-cheat-sheet\n",
    "\n",
    "****"
   ]
  },
  {
   "cell_type": "code",
   "execution_count": 2,
   "metadata": {},
   "outputs": [
    {
     "data": {
      "text/html": [
       "<div>\n",
       "<style scoped>\n",
       "    .dataframe tbody tr th:only-of-type {\n",
       "        vertical-align: middle;\n",
       "    }\n",
       "\n",
       "    .dataframe tbody tr th {\n",
       "        vertical-align: top;\n",
       "    }\n",
       "\n",
       "    .dataframe thead th {\n",
       "        text-align: right;\n",
       "    }\n",
       "</style>\n",
       "<table border=\"1\" class=\"dataframe\">\n",
       "  <thead>\n",
       "    <tr style=\"text-align: right;\">\n",
       "      <th></th>\n",
       "      <th>temperature</th>\n",
       "      <th>heart_rate</th>\n",
       "    </tr>\n",
       "  </thead>\n",
       "  <tbody>\n",
       "    <tr>\n",
       "      <th>count</th>\n",
       "      <td>130.000000</td>\n",
       "      <td>130.000000</td>\n",
       "    </tr>\n",
       "    <tr>\n",
       "      <th>mean</th>\n",
       "      <td>98.249231</td>\n",
       "      <td>73.761538</td>\n",
       "    </tr>\n",
       "    <tr>\n",
       "      <th>std</th>\n",
       "      <td>0.733183</td>\n",
       "      <td>7.062077</td>\n",
       "    </tr>\n",
       "    <tr>\n",
       "      <th>min</th>\n",
       "      <td>96.300000</td>\n",
       "      <td>57.000000</td>\n",
       "    </tr>\n",
       "    <tr>\n",
       "      <th>25%</th>\n",
       "      <td>97.800000</td>\n",
       "      <td>69.000000</td>\n",
       "    </tr>\n",
       "    <tr>\n",
       "      <th>50%</th>\n",
       "      <td>98.300000</td>\n",
       "      <td>74.000000</td>\n",
       "    </tr>\n",
       "    <tr>\n",
       "      <th>75%</th>\n",
       "      <td>98.700000</td>\n",
       "      <td>79.000000</td>\n",
       "    </tr>\n",
       "    <tr>\n",
       "      <th>max</th>\n",
       "      <td>100.800000</td>\n",
       "      <td>89.000000</td>\n",
       "    </tr>\n",
       "  </tbody>\n",
       "</table>\n",
       "</div>"
      ],
      "text/plain": [
       "       temperature  heart_rate\n",
       "count   130.000000  130.000000\n",
       "mean     98.249231   73.761538\n",
       "std       0.733183    7.062077\n",
       "min      96.300000   57.000000\n",
       "25%      97.800000   69.000000\n",
       "50%      98.300000   74.000000\n",
       "75%      98.700000   79.000000\n",
       "max     100.800000   89.000000"
      ]
     },
     "execution_count": 2,
     "metadata": {},
     "output_type": "execute_result"
    }
   ],
   "source": [
    "import pandas as pd\n",
    "df = pd.read_csv('data/human_body_temperature.csv')\n",
    "df.describe()"
   ]
  },
  {
   "cell_type": "code",
   "execution_count": 70,
   "metadata": {},
   "outputs": [
    {
     "data": {
      "image/png": "[encoded data removed]",
      "text/plain": [
       "<Figure size 432x288 with 1 Axes>"
      ]
     },
     "metadata": {},
     "output_type": "display_data"
    },
    {
     "name": "stdout",
     "output_type": "stream",
     "text": [
      "None\n"
     ]
    },
    {
     "data": {
      "image/png": "[encoded data removed]",
      "text/plain": [
       "<Figure size 432x288 with 1 Axes>"
      ]
     },
     "metadata": {},
     "output_type": "display_data"
    },
    {
     "name": "stdout",
     "output_type": "stream",
     "text": [
      "None\n"
     ]
    }
   ],
   "source": [
    "# 1.) Is the distribution of body temperatures normal?\n",
    "import matplotlib.pyplot as plt\n",
    "import seaborn as sns\n",
    "import numpy as np\n",
    "\n",
    "sns.set()\n",
    "\n",
    "# Test for normality with plotting\n",
    "plt.hist(x=df['temperature'],bins=50,range=(95,105))\n",
    "plt.xlabel('Temp in degrees (F)')\n",
    "plt.title('Distribution of body temperatures', fontsize=14)\n",
    "print(plt.show())\n",
    "\n",
    "# Test for normality with ECDF\n",
    "def ecdf(data):\n",
    "    # Number of data points: n\n",
    "    n = len(data)\n",
    "    # x-data for the ECDF: x\n",
    "    x = np.sort(data)\n",
    "    # y-data for the ECDF: y\n",
    "    y = np.arange(1, n+1) / n\n",
    "    return x, y\n",
    "samples = np.random.normal(98.249231,0.733183,1000)\n",
    "x, y = ecdf(df['temperature'])\n",
    "x_theor, y_theor = ecdf(samples)\n",
    "plt.plot(x_theor,y_theor)\n",
    "plt.plot(x,y,marker='.',linestyle='none')\n",
    "plt.xlabel('Temp in degrees (F)')\n",
    "plt.ylabel('CDF')\n",
    "plt.title('CDF of actual vs theoretical temps', fontsize=14)\n",
    "print(plt.show())"
   ]
  },
  {
   "cell_type": "markdown",
   "metadata": {},
   "source": [
    "### 1.) Is the distribution of body temperatures normal?\n",
    "\n",
    "From the above plots, we can see that the distribution of body temperatures is approximately normal.  First, a histogram of our temperature data has the shape of a normal distribution and is centered around the mean of 98.24.  Second, if we plot the cumulative distribution function of our temperature data against a normally distributed random sampling of 1,000 samples, we can see that both the actual and theoretical distributions are normally distributed as well."
   ]
  },
  {
   "cell_type": "code",
   "execution_count": 5,
   "metadata": {},
   "outputs": [
    {
     "name": "stdout",
     "output_type": "stream",
     "text": [
      "130\n"
     ]
    }
   ],
   "source": [
    "n = len(df)\n",
    "print(n)"
   ]
  },
  {
   "cell_type": "markdown",
   "metadata": {},
   "source": [
    "### 2. Is the sample size large? Are the observations independent?\n",
    "\n",
    "The Central Limit Theorem categorizes a sample as \"large\" if it consists of > 30 observations.  Since our sample consists of 130 observations, we can make the assumption that our sample approximates a normal distribution.\n",
    "\n",
    "Since we can only assume that one person's temperature does not have any impact on another person's temperature, we can consider the observations independent.  If the temperature readings were taken in a single room filled with 130 people, we might be less inclined to consider these observations independent of one another."
   ]
  },
  {
   "cell_type": "code",
   "execution_count": 6,
   "metadata": {},
   "outputs": [
    {
     "name": "stdout",
     "output_type": "stream",
     "text": [
      "p =  0.0\n"
     ]
    }
   ],
   "source": [
    "# Bootstrap hypothesis testing\n",
    "\n",
    "# Set bootstrap functions\n",
    "def bootstrap_replicate_func(data, func):\n",
    "    bs_sample = np.random.choice(data, len(data))\n",
    "    return func(bs_sample) \n",
    "def draw_bs_reps(data, func, size=1):\n",
    "    bs_replicates = np.empty(size)\n",
    "    for i in range(size):\n",
    "        bs_replicates[i] = bootstrap_replicate_func(data,func)\n",
    "    return bs_replicates\n",
    "\n",
    "# Calculate p-value using replicates\n",
    "bs_replicates = draw_bs_reps(data=df['temperature'], func=np.mean, size=10000)\n",
    "p = np.sum(bs_replicates >= 98.6) / 10000\n",
    "print('p = ', p)"
   ]
  },
  {
   "cell_type": "markdown",
   "metadata": {},
   "source": [
    "### 3. Is the true population mean really 98.6 degrees F?\n",
    "\n",
    "#### Bootstrap Hypothesis Test\n",
    "\n",
    "Using a bootstrap hypothesis test, we are testing a null hypothesis that the mean of the sample (temperature) and the mean of the overall population (98.6) are the same.  Since we are testing the mean, we will want to draw bootstrap replicates using np.mean for our test.  Since the mean of our data is 98.24, we will want to calculate a p-value that tells us how many of those replicates are at least as extreme as 98.6 (in other words, larger than the sample mean of 98.24).\n",
    "\n",
    "Using those assumptions, we get a p-value of 0, which suggests that we should reject the null hypothesis and assume that the true population mean is different from the mean of the sample.\n"
   ]
  },
  {
   "cell_type": "code",
   "execution_count": 7,
   "metadata": {},
   "outputs": [
    {
     "name": "stdout",
     "output_type": "stream",
     "text": [
      "z =  -5.475925202078116\n",
      "p =  4.3523151658821886e-08\n",
      "t =  -5.475925202078116\n",
      "critical value =  -1.9785244914586055\n"
     ]
    }
   ],
   "source": [
    "# One Sample z-test & p-value (two tailed test)\n",
    "z = (np.mean(df['temperature'])-98.6)/(np.std(df['temperature'])/np.sqrt(130))\n",
    "print(\"z = \",z)\n",
    "\n",
    "import scipy.stats as stats\n",
    "p1 = stats.norm.cdf(z)*2\n",
    "print(\"p = \",p1)\n",
    "\n",
    "# One Sample t-test (two tailed test)\n",
    "t = (np.mean(df['temperature'])-98.6)/(np.std(df['temperature'])/np.sqrt(130))\n",
    "print(\"t = \",t)\n",
    "critical_value = stats.t.ppf(.05/2,130-1)\n",
    "print(\"critical value = \",critical_value)"
   ]
  },
  {
   "cell_type": "markdown",
   "metadata": {},
   "source": [
    "#### Frequentist Tests\n",
    "\n",
    "*One Sample Z-Test*\n",
    "\n",
    "We only have one sample mean to compare to the \"true population\" mean, so we'll be performing a one sample test.  Since our sample size according to the CLT is \"large\" (>30), we can use a z-test.  Assuming a normal distribution (as we established above), we can use this one sample z-test to test whether our sample mean is equal to 98.6.  In other words:\n",
    "\n",
    "Ho: x - 98.6 = 0  \n",
    "H1: x - 98.6 =/= 0\n",
    "\n",
    "Since we do not know our population standard deviation, we use the CLT to get our z-score, dividing our sample standard deviation by the square root of our sample size.\n",
    "\n",
    "This yields a z-score of -5.48.  If we use a confidence interval of 95% for our mean, we would expect our z-score to be between -1.96 and 1.96.  Given our z-score outside this range (-5.48 < -1.96), we can reject the null hypothesis.\n",
    "\n",
    "*P-Value*\n",
    "\n",
    "Using the z-score calculated above, we can also use a p-value to calculate the probability that the sample mean is equal to the population mean.  Since the alternative hypothesis does not specify the sample mean being greater than or less than the population mean, we can use a two-tailed test and multiply our calculation by 2 to get the p-value.  Since we end up with a p-value of .0000000435 (< .05), we can again reject the null hypothesis.\n",
    "\n",
    "*One Sample T-Test*\n",
    "\n",
    "Similarly, we could use a t-test.  Since we used a 95% confidence interval for our z-test, we would use an α of 0.05 for our t-test, with 129 (n-1) degrees of freedom.  This yields a critical value of -1.98 and a t-score of -5.48, which would reject our null hypothesis just like the z-test did.\n",
    "\n",
    "*Conclusion*\n",
    "\n",
    "The ideal test to use in this case is the z-test.  As we said before, since our sample size is large enough and our sample distribution is normal, this is a preferred method of testing.  That said, there's not a huge difference between the two tests.  Both tests reject the null hypothesis.  If our z/t scores were closer to the limits of our confidence interval of the mean or our critical t-values, respectively, the type of test selected would have more of an impact on the final result."
   ]
  },
  {
   "cell_type": "code",
   "execution_count": 46,
   "metadata": {},
   "outputs": [
    {
     "name": "stdout",
     "output_type": "stream",
     "text": [
      "[98.  98.2 98.6 97.6 98.7 96.4 98.8 98.7 98.2 98.4]\n",
      "z =  -2.0330320879263\n",
      "p =  0.04204928125860522\n",
      "t =  -2.0330320879263\n",
      "critical value =  -2.262157162740992\n"
     ]
    }
   ],
   "source": [
    "# Random sampling of 10\n",
    "np.random.seed(17)\n",
    "tempsamp = np.random.choice(df['temperature'],10)\n",
    "print(tempsamp)\n",
    "\n",
    "# One Sample z-test & p-value\n",
    "z = (np.mean(tempsamp)-98.6)/(np.std(tempsamp)/np.sqrt(10))\n",
    "print(\"z = \",z)\n",
    "\n",
    "import scipy.stats as stats\n",
    "p1 = stats.norm.cdf(z)*2\n",
    "print(\"p = \",p1)\n",
    "\n",
    "# One Sample t-test\n",
    "t = (np.mean(tempsamp)-98.6)/(np.std(tempsamp)/np.sqrt(10))\n",
    "print(\"t = \",t)\n",
    "critical_value = stats.t.ppf(.05/2,10-1)\n",
    "print(\"critical value = \",critical_value)"
   ]
  },
  {
   "cell_type": "markdown",
   "metadata": {},
   "source": [
    "### 4. Draw a small sample of size 10 from the data and repeat both frequentist tests.\n",
    "\n",
    "The correct test to use in this application is the t-test.  Since our sample is < 30, the t-test is the more accurate measure than the z-test.\n",
    "\n",
    "In addition to the general guidelines around z vs t tests, we can also very clearly see the issues with using a z test in this scenario.  In our t-test, the critical value sits at -2.26 and our t-statistic is -2.03, a value that falls perfectly within the critical range and allows us to accept the null hypothesis.  \n",
    "However, using a z-test doesn't give us as definitive of an answer.  The z-score of -2.03 is just outside the -1.96 lower limit of the 95% confidence interval of the mean.  It also yields a rather small p-value of 0.04 (< .05), which might lead us to rejecting the null hypothesis.\n",
    "\n",
    "This exercise clearly demonstrates the sensitivity of a small sample to the frequentist method chosen for a hypothesist test."
   ]
  },
  {
   "cell_type": "code",
   "execution_count": 62,
   "metadata": {},
   "outputs": [
    {
     "name": "stdout",
     "output_type": "stream",
     "text": [
      "Upper Limit Confidence Interval 99.68073201588466\n",
      "Lower Limit Confidence Interval 96.8177295225769\n"
     ]
    }
   ],
   "source": [
    "# Calculate margin of error & confidence interval\n",
    "\n",
    "# A 95% confidence interval would be +- 1.96 std from the mean\n",
    "mean = np.mean(df['temperature'])\n",
    "sd = np.std(df['temperature'])\n",
    "CI_upper = mean + (sd * 1.96)\n",
    "CI_lower = mean - (sd * 1.96)\n",
    "\n",
    "print('Upper Limit Confidence Interval ' + str(CI_upper))\n",
    "print('Lower Limit Confidence Interval ' + str(CI_lower))"
   ]
  },
  {
   "cell_type": "markdown",
   "metadata": {},
   "source": [
    "### 5. At what temperature should we consider someone's temperature to be \"abnormal\"?\n",
    "\n",
    "Given a 95% confidence interval of the means, any body temperature below 96.8 or above 99.7 should be considered 'abnormal'."
   ]
  },
  {
   "cell_type": "code",
   "execution_count": 72,
   "metadata": {},
   "outputs": [
    {
     "name": "stdout",
     "output_type": "stream",
     "text": [
      "Sample sizes for male and female =  65 , 65\n",
      "z = -1.6294058357441952\n",
      "p =  0.10322713421648631\n"
     ]
    }
   ],
   "source": [
    "maletemps = (df[df['gender']=='M'])\n",
    "femaletemps = (df[df['gender']=='F'])\n",
    "print(\"Sample sizes for male and female = \",len(maletemps),\",\",len(femaletemps))\n",
    "\n",
    "# z score\n",
    "diffmeans = np.mean(maletemps['temperature'])-np.mean(femaletemps['temperature'])\n",
    "se = (np.std(maletemps['temperature'])/np.sqrt(65))+(np.std(femaletemps['temperature'])/np.sqrt(65))\n",
    "z = diffmeans/se\n",
    "print(\"z =\",z)\n",
    "\n",
    "# p value\n",
    "p2 = stats.norm.cdf(z)*2\n",
    "print(\"p = \",p2)"
   ]
  },
  {
   "cell_type": "markdown",
   "metadata": {},
   "source": [
    "### 6. Is there a significant difference between males and females in normal temperature?\n",
    "\n",
    "*Two Sample Z-Test*\n",
    "\n",
    "Since, in this case, we are comparing two sample means to each other, and our sample sizes are still considered \"large\" according to the CLT (65 > 30), we can use a two sample z-test for our hypothesis testing.  Our null hypothesis for this test is that the mean of male temperature - the mean of female temperature = 0, and our alternative hypothesis is that the mean of male temperature - the mean of female temperature != 0.  In other words:\n",
    "\n",
    "Ho: x1 - x2 = 0  \n",
    "H1: x1 - x2 =/= 0\n",
    "\n",
    "This yields a z-score of -1.62. If we use a confidence interval of 95% for our mean, we would expect our z-score to be between -1.96 and 1.96. Given our z-score is inside this range (-1.62 > -1.96), we cannot reject the null hypothesis.\n",
    "\n",
    "*P-value*\n",
    "\n",
    "Since our p-value ends up at 0.10, which is greater than our α of 0.05, we again cannot reject the null hypothesis that there is no significant difference between the mean male temperature and the mean female temperature.\n",
    "\n",
    "*Conclusion*\n",
    "\n",
    "In this sample, there is no significant difference in mean body temperatures of males and females."
   ]
  }
 ],
 "metadata": {
  "kernelspec": {
   "display_name": "Python 3",
   "language": "python",
   "name": "python3"
  },
  "language_info": {
   "codemirror_mode": {
    "name": "ipython",
    "version": 3
   },
   "file_extension": ".py",
   "mimetype": "text/x-python",
   "name": "python",
   "nbconvert_exporter": "python",
   "pygments_lexer": "ipython3",
   "version": "3.7.0"
  }
 },
 "nbformat": 4,
 "nbformat_minor": 1
}
